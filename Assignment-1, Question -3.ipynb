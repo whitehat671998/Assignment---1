{
 "cells": [
  {
   "cell_type": "code",
   "execution_count": 1,
   "id": "4240c94d",
   "metadata": {},
   "outputs": [
    {
     "name": "stdout",
     "output_type": "stream",
     "text": [
      "count of odd numbers : 5\n",
      "count of even numbers : 4\n"
     ]
    }
   ],
   "source": [
    "k=0\n",
    "y=0\n",
    "\n",
    "for x in range(1,10):\n",
    "    if x%2==0:\n",
    "        y=y+1\n",
    "    else:\n",
    "        k=k+1\n",
    "print(\"count of odd numbers :\",k)\n",
    "print(\"count of even numbers :\",y)"
   ]
  },
  {
   "cell_type": "code",
   "execution_count": null,
   "id": "dde3d4bf",
   "metadata": {},
   "outputs": [],
   "source": []
  }
 ],
 "metadata": {
  "kernelspec": {
   "display_name": "Python 3 (ipykernel)",
   "language": "python",
   "name": "python3"
  },
  "language_info": {
   "codemirror_mode": {
    "name": "ipython",
    "version": 3
   },
   "file_extension": ".py",
   "mimetype": "text/x-python",
   "name": "python",
   "nbconvert_exporter": "python",
   "pygments_lexer": "ipython3",
   "version": "3.9.12"
  }
 },
 "nbformat": 4,
 "nbformat_minor": 5
}
