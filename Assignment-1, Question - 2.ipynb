{
 "cells": [
  {
   "cell_type": "code",
   "execution_count": 4,
   "id": "bbc35e00",
   "metadata": {},
   "outputs": [
    {
     "name": "stdout",
     "output_type": "stream",
     "text": [
      "Please enter your own : Prathmesh\n",
      "Original =  Prathmesh\n",
      "After =  hsemhtarP\n"
     ]
    }
   ],
   "source": [
    "st1 = input(\"Please enter your own : \")\n",
    "\n",
    "st2 = ''\n",
    "\n",
    "for i in st1:\n",
    "    st2 = i + st2\n",
    "    \n",
    "print(\"Original = \", st1)\n",
    "print(\"After = \", st2)\n"
   ]
  },
  {
   "cell_type": "code",
   "execution_count": null,
   "id": "48875e95",
   "metadata": {},
   "outputs": [],
   "source": []
  }
 ],
 "metadata": {
  "kernelspec": {
   "display_name": "Python 3 (ipykernel)",
   "language": "python",
   "name": "python3"
  },
  "language_info": {
   "codemirror_mode": {
    "name": "ipython",
    "version": 3
   },
   "file_extension": ".py",
   "mimetype": "text/x-python",
   "name": "python",
   "nbconvert_exporter": "python",
   "pygments_lexer": "ipython3",
   "version": "3.9.12"
  }
 },
 "nbformat": 4,
 "nbformat_minor": 5
}
